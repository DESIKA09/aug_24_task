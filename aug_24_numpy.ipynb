{
 "cells": [
  {
   "cell_type": "code",
   "execution_count": 2,
   "id": "012dfb98",
   "metadata": {},
   "outputs": [
    {
     "name": "stdout",
     "output_type": "stream",
     "text": [
      "[10, 5, 8, 32, 65, 43]\n"
     ]
    }
   ],
   "source": [
    "import numpy as np\n",
    "\n",
    "ages_list = [10, 5, 8, 32, 65, 43]\n",
    "print(ages_list)\n",
    "\n"
   ]
  },
  {
   "cell_type": "code",
   "execution_count": 3,
   "id": "26a73e90",
   "metadata": {},
   "outputs": [
    {
     "name": "stdout",
     "output_type": "stream",
     "text": [
      "<class 'numpy.ndarray'>\n",
      "[10  5  8 32 65 43]\n"
     ]
    }
   ],
   "source": [
    "ages = np.array(ages_list)\n",
    "print(type(ages))\n",
    "print(ages)"
   ]
  },
  {
   "cell_type": "code",
   "execution_count": 4,
   "id": "6af05340",
   "metadata": {},
   "outputs": [
    {
     "name": "stdout",
     "output_type": "stream",
     "text": [
      "[10  5  8 32 65 43]\n",
      "Size:\t 6\n",
      "Shape:\t (6,)\n"
     ]
    }
   ],
   "source": [
    "print(ages)\n",
    "print(\"Size:\\t\" , ages.size)\n",
    "print(\"Shape:\\t\", ages.shape)"
   ]
  },
  {
   "cell_type": "code",
   "execution_count": 5,
   "id": "f8c3c04f",
   "metadata": {},
   "outputs": [
    {
     "name": "stdout",
     "output_type": "stream",
     "text": [
      "[0. 0. 0. 0. 0.]\n"
     ]
    }
   ],
   "source": [
    "zeroArr = np.zeros(5)\n",
    "print(zeroArr)"
   ]
  },
  {
   "cell_type": "code",
   "execution_count": 6,
   "id": "f69abf36",
   "metadata": {},
   "outputs": [],
   "source": [
    "weight_list = [32, 18, 26, 60, 55, 65]"
   ]
  },
  {
   "cell_type": "code",
   "execution_count": 7,
   "id": "e0973493",
   "metadata": {},
   "outputs": [
    {
     "name": "stdout",
     "output_type": "stream",
     "text": [
      "People:\t [[10  5  8 32 65 43]\n",
      " [32 18 26 60 55 65]]\n",
      "Size:\t 12\n",
      "Shape:\t (2, 6)\n"
     ]
    }
   ],
   "source": [
    "people = np.array([ages_list, weight_list])\n",
    "\n",
    "print(\"People:\\t\" , people)\n",
    "print(\"Size:\\t\" , people.size)\n",
    "print(\"Shape:\\t\", people.shape)"
   ]
  },
  {
   "cell_type": "markdown",
   "id": "671c0fc7",
   "metadata": {},
   "source": [
    "### Exercise\n",
    "\n",
    "* Generate a 1D numpy array with the values [7, 9, 65, 33, 85, 99]\n",
    "\n",
    "* Generate a matrix (2D numpy array) of the values:\n",
    "\n",
    "\\begin{align}\n",
    "  \\mathbf{A} =\n",
    "  \\begin{pmatrix}\n",
    "    1 & 2 & 4 \\\\\n",
    "    2 & 3 & 0 \\\\\n",
    "    0 & 5 & 1\n",
    "  \\end{pmatrix}\n",
    "\\end{align}\n",
    "\n",
    "* Change the dimensions of this array to another permitted shape\n",
    "\n",
    "    "
   ]
  },
  {
   "cell_type": "code",
   "execution_count": 9,
   "id": "20060bb2",
   "metadata": {},
   "outputs": [],
   "source": [
    "oned_numpy =np.array([7, 9, 65, 33, 85, 99])"
   ]
  },
  {
   "cell_type": "code",
   "execution_count": 10,
   "id": "cde59881",
   "metadata": {},
   "outputs": [
    {
     "data": {
      "text/plain": [
       "array([ 7,  9, 65, 33, 85, 99])"
      ]
     },
     "execution_count": 10,
     "metadata": {},
     "output_type": "execute_result"
    }
   ],
   "source": [
    "oned_numpy"
   ]
  },
  {
   "cell_type": "code",
   "execution_count": 12,
   "id": "8b60f869",
   "metadata": {},
   "outputs": [
    {
     "data": {
      "text/plain": [
       "6"
      ]
     },
     "execution_count": 12,
     "metadata": {},
     "output_type": "execute_result"
    }
   ],
   "source": [
    "oned_numpy.size"
   ]
  },
  {
   "cell_type": "code",
   "execution_count": 19,
   "id": "eb4a4257",
   "metadata": {},
   "outputs": [
    {
     "data": {
      "text/plain": [
       "array([[1, 2, 4],\n",
       "       [2, 3, 0],\n",
       "       [0, 5, 1]])"
      ]
     },
     "execution_count": 19,
     "metadata": {},
     "output_type": "execute_result"
    }
   ],
   "source": [
    "my_mat=[[1,2,4],[2,3,0],[0,5,1]]\n",
    "my_mat=np.array(my_mat)\n",
    "my_mat"
   ]
  },
  {
   "cell_type": "code",
   "execution_count": 20,
   "id": "74ad27fd",
   "metadata": {},
   "outputs": [
    {
     "data": {
      "text/plain": [
       "(3, 3)"
      ]
     },
     "execution_count": 20,
     "metadata": {},
     "output_type": "execute_result"
    }
   ],
   "source": [
    "my_mat.shape"
   ]
  },
  {
   "cell_type": "code",
   "execution_count": 25,
   "id": "66a15cb7",
   "metadata": {},
   "outputs": [
    {
     "data": {
      "text/plain": [
       "array([[1],\n",
       "       [2],\n",
       "       [4],\n",
       "       [2],\n",
       "       [3],\n",
       "       [0],\n",
       "       [0],\n",
       "       [5],\n",
       "       [1]])"
      ]
     },
     "execution_count": 25,
     "metadata": {},
     "output_type": "execute_result"
    }
   ],
   "source": [
    "my_mat.reshape(9,1)"
   ]
  },
  {
   "cell_type": "code",
   "execution_count": 26,
   "id": "93808e3a",
   "metadata": {},
   "outputs": [
    {
     "data": {
      "text/plain": [
       "array([[1, 2, 4, 2, 3, 0, 0, 5, 1]])"
      ]
     },
     "execution_count": 26,
     "metadata": {},
     "output_type": "execute_result"
    }
   ],
   "source": [
    "my_mat.reshape(1,9)"
   ]
  },
  {
   "cell_type": "markdown",
   "id": "3ee36b3a",
   "metadata": {},
   "source": [
    "## Array Generation"
   ]
  },
  {
   "cell_type": "code",
   "execution_count": 27,
   "id": "7b5c68ac",
   "metadata": {},
   "outputs": [
    {
     "data": {
      "text/plain": [
       "array([ 0,  5, 10, 15, 20, 25, 30, 35, 40, 45, 50])"
      ]
     },
     "execution_count": 27,
     "metadata": {},
     "output_type": "execute_result"
    }
   ],
   "source": [
    "five_times_table = np.arange(0, 55, 5)\n",
    "five_times_table"
   ]
  },
  {
   "cell_type": "code",
   "execution_count": 28,
   "id": "a6881a49",
   "metadata": {},
   "outputs": [
    {
     "name": "stdout",
     "output_type": "stream",
     "text": [
      "[ 0.  5. 10. 15. 20. 25. 30. 35. 40. 45. 50.]\n"
     ]
    }
   ],
   "source": [
    "five_spaced = np.linspace(0,50,11)\n",
    "print(five_spaced)"
   ]
  },
  {
   "cell_type": "code",
   "execution_count": 29,
   "id": "867c5bd2",
   "metadata": {},
   "outputs": [
    {
     "name": "stdout",
     "output_type": "stream",
     "text": [
      "[2 2 2 2 2 2 2 2 2 2]\n"
     ]
    }
   ],
   "source": [
    "twoArr = np.repeat(2, 10)\n",
    "print(twoArr)"
   ]
  },
  {
   "cell_type": "code",
   "execution_count": 30,
   "id": "04ad66d3",
   "metadata": {},
   "outputs": [
    {
     "name": "stdout",
     "output_type": "stream",
     "text": [
      "[[1. 0. 0. 0. 0. 0.]\n",
      " [0. 1. 0. 0. 0. 0.]\n",
      " [0. 0. 1. 0. 0. 0.]\n",
      " [0. 0. 0. 1. 0. 0.]\n",
      " [0. 0. 0. 0. 1. 0.]\n",
      " [0. 0. 0. 0. 0. 1.]]\n"
     ]
    }
   ],
   "source": [
    "identity_matrix = np.eye(6)\n",
    "print(identity_matrix)"
   ]
  },
  {
   "cell_type": "markdown",
   "id": "33995232",
   "metadata": {},
   "source": [
    "# Operations"
   ]
  },
  {
   "cell_type": "code",
   "execution_count": 31,
   "id": "cea690c8",
   "metadata": {},
   "outputs": [
    {
     "data": {
      "text/plain": [
       "array([ 0,  5, 10, 15, 20, 25, 30, 35, 40, 45, 50])"
      ]
     },
     "execution_count": 31,
     "metadata": {},
     "output_type": "execute_result"
    }
   ],
   "source": [
    "five_times_table\n"
   ]
  },
  {
   "cell_type": "markdown",
   "id": "70945523",
   "metadata": {},
   "source": [
    "*italicized text*### Speed Test"
   ]
  },
  {
   "cell_type": "code",
   "execution_count": 32,
   "id": "845e6a26",
   "metadata": {},
   "outputs": [
    {
     "data": {
      "text/plain": [
       "[0,\n",
       " 5,\n",
       " 10,\n",
       " 15,\n",
       " 20,\n",
       " 25,\n",
       " 30,\n",
       " 35,\n",
       " 40,\n",
       " 45,\n",
       " 50,\n",
       " 55,\n",
       " 60,\n",
       " 65,\n",
       " 70,\n",
       " 75,\n",
       " 80,\n",
       " 85,\n",
       " 90,\n",
       " 95,\n",
       " 100,\n",
       " 105,\n",
       " 110,\n",
       " 115,\n",
       " 120,\n",
       " 125,\n",
       " 130,\n",
       " 135,\n",
       " 140,\n",
       " 145,\n",
       " 150,\n",
       " 155,\n",
       " 160,\n",
       " 165,\n",
       " 170,\n",
       " 175,\n",
       " 180,\n",
       " 185,\n",
       " 190,\n",
       " 195,\n",
       " 200,\n",
       " 205,\n",
       " 210,\n",
       " 215,\n",
       " 220,\n",
       " 225,\n",
       " 230,\n",
       " 235,\n",
       " 240,\n",
       " 245,\n",
       " 250,\n",
       " 255,\n",
       " 260,\n",
       " 265,\n",
       " 270,\n",
       " 275,\n",
       " 280,\n",
       " 285,\n",
       " 290,\n",
       " 295,\n",
       " 300,\n",
       " 305,\n",
       " 310,\n",
       " 315,\n",
       " 320,\n",
       " 325,\n",
       " 330,\n",
       " 335,\n",
       " 340,\n",
       " 345,\n",
       " 350,\n",
       " 355,\n",
       " 360,\n",
       " 365,\n",
       " 370,\n",
       " 375,\n",
       " 380,\n",
       " 385,\n",
       " 390,\n",
       " 395,\n",
       " 400,\n",
       " 405,\n",
       " 410,\n",
       " 415,\n",
       " 420,\n",
       " 425,\n",
       " 430,\n",
       " 435,\n",
       " 440,\n",
       " 445,\n",
       " 450,\n",
       " 455,\n",
       " 460,\n",
       " 465,\n",
       " 470,\n",
       " 475,\n",
       " 480,\n",
       " 485,\n",
       " 490,\n",
       " 495,\n",
       " 500,\n",
       " 505,\n",
       " 510,\n",
       " 515,\n",
       " 520,\n",
       " 525,\n",
       " 530,\n",
       " 535,\n",
       " 540,\n",
       " 545,\n",
       " 550,\n",
       " 555,\n",
       " 560,\n",
       " 565,\n",
       " 570,\n",
       " 575,\n",
       " 580,\n",
       " 585,\n",
       " 590,\n",
       " 595,\n",
       " 600,\n",
       " 605,\n",
       " 610,\n",
       " 615,\n",
       " 620,\n",
       " 625,\n",
       " 630,\n",
       " 635,\n",
       " 640,\n",
       " 645,\n",
       " 650,\n",
       " 655,\n",
       " 660,\n",
       " 665,\n",
       " 670,\n",
       " 675,\n",
       " 680,\n",
       " 685,\n",
       " 690,\n",
       " 695,\n",
       " 700,\n",
       " 705,\n",
       " 710,\n",
       " 715,\n",
       " 720,\n",
       " 725,\n",
       " 730,\n",
       " 735,\n",
       " 740,\n",
       " 745,\n",
       " 750,\n",
       " 755,\n",
       " 760,\n",
       " 765,\n",
       " 770,\n",
       " 775,\n",
       " 780,\n",
       " 785,\n",
       " 790,\n",
       " 795,\n",
       " 800,\n",
       " 805,\n",
       " 810,\n",
       " 815,\n",
       " 820,\n",
       " 825,\n",
       " 830,\n",
       " 835,\n",
       " 840,\n",
       " 845,\n",
       " 850,\n",
       " 855,\n",
       " 860,\n",
       " 865,\n",
       " 870,\n",
       " 875,\n",
       " 880,\n",
       " 885,\n",
       " 890,\n",
       " 895,\n",
       " 900,\n",
       " 905,\n",
       " 910,\n",
       " 915,\n",
       " 920,\n",
       " 925,\n",
       " 930,\n",
       " 935,\n",
       " 940,\n",
       " 945,\n",
       " 950,\n",
       " 955,\n",
       " 960,\n",
       " 965,\n",
       " 970,\n",
       " 975,\n",
       " 980,\n",
       " 985,\n",
       " 990,\n",
       " 995,\n",
       " 1000,\n",
       " 1005,\n",
       " 1010,\n",
       " 1015,\n",
       " 1020,\n",
       " 1025,\n",
       " 1030,\n",
       " 1035,\n",
       " 1040,\n",
       " 1045,\n",
       " 1050,\n",
       " 1055,\n",
       " 1060,\n",
       " 1065,\n",
       " 1070,\n",
       " 1075,\n",
       " 1080,\n",
       " 1085,\n",
       " 1090,\n",
       " 1095,\n",
       " 1100,\n",
       " 1105,\n",
       " 1110,\n",
       " 1115,\n",
       " 1120,\n",
       " 1125,\n",
       " 1130,\n",
       " 1135,\n",
       " 1140,\n",
       " 1145,\n",
       " 1150,\n",
       " 1155,\n",
       " 1160,\n",
       " 1165,\n",
       " 1170,\n",
       " 1175,\n",
       " 1180,\n",
       " 1185,\n",
       " 1190,\n",
       " 1195,\n",
       " 1200,\n",
       " 1205,\n",
       " 1210,\n",
       " 1215,\n",
       " 1220,\n",
       " 1225,\n",
       " 1230,\n",
       " 1235,\n",
       " 1240,\n",
       " 1245,\n",
       " 1250,\n",
       " 1255,\n",
       " 1260,\n",
       " 1265,\n",
       " 1270,\n",
       " 1275,\n",
       " 1280,\n",
       " 1285,\n",
       " 1290,\n",
       " 1295,\n",
       " 1300,\n",
       " 1305,\n",
       " 1310,\n",
       " 1315,\n",
       " 1320,\n",
       " 1325,\n",
       " 1330,\n",
       " 1335,\n",
       " 1340,\n",
       " 1345,\n",
       " 1350,\n",
       " 1355,\n",
       " 1360,\n",
       " 1365,\n",
       " 1370,\n",
       " 1375,\n",
       " 1380,\n",
       " 1385,\n",
       " 1390,\n",
       " 1395,\n",
       " 1400,\n",
       " 1405,\n",
       " 1410,\n",
       " 1415,\n",
       " 1420,\n",
       " 1425,\n",
       " 1430,\n",
       " 1435,\n",
       " 1440,\n",
       " 1445,\n",
       " 1450,\n",
       " 1455,\n",
       " 1460,\n",
       " 1465,\n",
       " 1470,\n",
       " 1475,\n",
       " 1480,\n",
       " 1485,\n",
       " 1490,\n",
       " 1495,\n",
       " 1500,\n",
       " 1505,\n",
       " 1510,\n",
       " 1515,\n",
       " 1520,\n",
       " 1525,\n",
       " 1530,\n",
       " 1535,\n",
       " 1540,\n",
       " 1545,\n",
       " 1550,\n",
       " 1555,\n",
       " 1560,\n",
       " 1565,\n",
       " 1570,\n",
       " 1575,\n",
       " 1580,\n",
       " 1585,\n",
       " 1590,\n",
       " 1595,\n",
       " 1600,\n",
       " 1605,\n",
       " 1610,\n",
       " 1615,\n",
       " 1620,\n",
       " 1625,\n",
       " 1630,\n",
       " 1635,\n",
       " 1640,\n",
       " 1645,\n",
       " 1650,\n",
       " 1655,\n",
       " 1660,\n",
       " 1665,\n",
       " 1670,\n",
       " 1675,\n",
       " 1680,\n",
       " 1685,\n",
       " 1690,\n",
       " 1695,\n",
       " 1700,\n",
       " 1705,\n",
       " 1710,\n",
       " 1715,\n",
       " 1720,\n",
       " 1725,\n",
       " 1730,\n",
       " 1735,\n",
       " 1740,\n",
       " 1745,\n",
       " 1750,\n",
       " 1755,\n",
       " 1760,\n",
       " 1765,\n",
       " 1770,\n",
       " 1775,\n",
       " 1780,\n",
       " 1785,\n",
       " 1790,\n",
       " 1795,\n",
       " 1800,\n",
       " 1805,\n",
       " 1810,\n",
       " 1815,\n",
       " 1820,\n",
       " 1825,\n",
       " 1830,\n",
       " 1835,\n",
       " 1840,\n",
       " 1845,\n",
       " 1850,\n",
       " 1855,\n",
       " 1860,\n",
       " 1865,\n",
       " 1870,\n",
       " 1875,\n",
       " 1880,\n",
       " 1885,\n",
       " 1890,\n",
       " 1895,\n",
       " 1900,\n",
       " 1905,\n",
       " 1910,\n",
       " 1915,\n",
       " 1920,\n",
       " 1925,\n",
       " 1930,\n",
       " 1935,\n",
       " 1940,\n",
       " 1945,\n",
       " 1950,\n",
       " 1955,\n",
       " 1960,\n",
       " 1965,\n",
       " 1970,\n",
       " 1975,\n",
       " 1980,\n",
       " 1985,\n",
       " 1990,\n",
       " 1995,\n",
       " 2000,\n",
       " 2005,\n",
       " 2010,\n",
       " 2015,\n",
       " 2020,\n",
       " 2025,\n",
       " 2030,\n",
       " 2035,\n",
       " 2040,\n",
       " 2045,\n",
       " 2050,\n",
       " 2055,\n",
       " 2060,\n",
       " 2065,\n",
       " 2070,\n",
       " 2075,\n",
       " 2080,\n",
       " 2085,\n",
       " 2090,\n",
       " 2095,\n",
       " 2100,\n",
       " 2105,\n",
       " 2110,\n",
       " 2115,\n",
       " 2120,\n",
       " 2125,\n",
       " 2130,\n",
       " 2135,\n",
       " 2140,\n",
       " 2145,\n",
       " 2150,\n",
       " 2155,\n",
       " 2160,\n",
       " 2165,\n",
       " 2170,\n",
       " 2175,\n",
       " 2180,\n",
       " 2185,\n",
       " 2190,\n",
       " 2195,\n",
       " 2200,\n",
       " 2205,\n",
       " 2210,\n",
       " 2215,\n",
       " 2220,\n",
       " 2225,\n",
       " 2230,\n",
       " 2235,\n",
       " 2240,\n",
       " 2245,\n",
       " 2250,\n",
       " 2255,\n",
       " 2260,\n",
       " 2265,\n",
       " 2270,\n",
       " 2275,\n",
       " 2280,\n",
       " 2285,\n",
       " 2290,\n",
       " 2295,\n",
       " 2300,\n",
       " 2305,\n",
       " 2310,\n",
       " 2315,\n",
       " 2320,\n",
       " 2325,\n",
       " 2330,\n",
       " 2335,\n",
       " 2340,\n",
       " 2345,\n",
       " 2350,\n",
       " 2355,\n",
       " 2360,\n",
       " 2365,\n",
       " 2370,\n",
       " 2375,\n",
       " 2380,\n",
       " 2385,\n",
       " 2390,\n",
       " 2395,\n",
       " 2400,\n",
       " 2405,\n",
       " 2410,\n",
       " 2415,\n",
       " 2420,\n",
       " 2425,\n",
       " 2430,\n",
       " 2435,\n",
       " 2440,\n",
       " 2445,\n",
       " 2450,\n",
       " 2455,\n",
       " 2460,\n",
       " 2465,\n",
       " 2470,\n",
       " 2475,\n",
       " 2480,\n",
       " 2485,\n",
       " 2490,\n",
       " 2495,\n",
       " 2500,\n",
       " 2505,\n",
       " 2510,\n",
       " 2515,\n",
       " 2520,\n",
       " 2525,\n",
       " 2530,\n",
       " 2535,\n",
       " 2540,\n",
       " 2545,\n",
       " 2550,\n",
       " 2555,\n",
       " 2560,\n",
       " 2565,\n",
       " 2570,\n",
       " 2575,\n",
       " 2580,\n",
       " 2585,\n",
       " 2590,\n",
       " 2595,\n",
       " 2600,\n",
       " 2605,\n",
       " 2610,\n",
       " 2615,\n",
       " 2620,\n",
       " 2625,\n",
       " 2630,\n",
       " 2635,\n",
       " 2640,\n",
       " 2645,\n",
       " 2650,\n",
       " 2655,\n",
       " 2660,\n",
       " 2665,\n",
       " 2670,\n",
       " 2675,\n",
       " 2680,\n",
       " 2685,\n",
       " 2690,\n",
       " 2695,\n",
       " 2700,\n",
       " 2705,\n",
       " 2710,\n",
       " 2715,\n",
       " 2720,\n",
       " 2725,\n",
       " 2730,\n",
       " 2735,\n",
       " 2740,\n",
       " 2745,\n",
       " 2750,\n",
       " 2755,\n",
       " 2760,\n",
       " 2765,\n",
       " 2770,\n",
       " 2775,\n",
       " 2780,\n",
       " 2785,\n",
       " 2790,\n",
       " 2795,\n",
       " 2800,\n",
       " 2805,\n",
       " 2810,\n",
       " 2815,\n",
       " 2820,\n",
       " 2825,\n",
       " 2830,\n",
       " 2835,\n",
       " 2840,\n",
       " 2845,\n",
       " 2850,\n",
       " 2855,\n",
       " 2860,\n",
       " 2865,\n",
       " 2870,\n",
       " 2875,\n",
       " 2880,\n",
       " 2885,\n",
       " 2890,\n",
       " 2895,\n",
       " 2900,\n",
       " 2905,\n",
       " 2910,\n",
       " 2915,\n",
       " 2920,\n",
       " 2925,\n",
       " 2930,\n",
       " 2935,\n",
       " 2940,\n",
       " 2945,\n",
       " 2950,\n",
       " 2955,\n",
       " 2960,\n",
       " 2965,\n",
       " 2970,\n",
       " 2975,\n",
       " 2980,\n",
       " 2985,\n",
       " 2990,\n",
       " 2995,\n",
       " 3000,\n",
       " 3005,\n",
       " 3010,\n",
       " 3015,\n",
       " 3020,\n",
       " 3025,\n",
       " 3030,\n",
       " 3035,\n",
       " 3040,\n",
       " 3045,\n",
       " 3050,\n",
       " 3055,\n",
       " 3060,\n",
       " 3065,\n",
       " 3070,\n",
       " 3075,\n",
       " 3080,\n",
       " 3085,\n",
       " 3090,\n",
       " 3095,\n",
       " 3100,\n",
       " 3105,\n",
       " 3110,\n",
       " 3115,\n",
       " 3120,\n",
       " 3125,\n",
       " 3130,\n",
       " 3135,\n",
       " 3140,\n",
       " 3145,\n",
       " 3150,\n",
       " 3155,\n",
       " 3160,\n",
       " 3165,\n",
       " 3170,\n",
       " 3175,\n",
       " 3180,\n",
       " 3185,\n",
       " 3190,\n",
       " 3195,\n",
       " 3200,\n",
       " 3205,\n",
       " 3210,\n",
       " 3215,\n",
       " 3220,\n",
       " 3225,\n",
       " 3230,\n",
       " 3235,\n",
       " 3240,\n",
       " 3245,\n",
       " 3250,\n",
       " 3255,\n",
       " 3260,\n",
       " 3265,\n",
       " 3270,\n",
       " 3275,\n",
       " 3280,\n",
       " 3285,\n",
       " 3290,\n",
       " 3295,\n",
       " 3300,\n",
       " 3305,\n",
       " 3310,\n",
       " 3315,\n",
       " 3320,\n",
       " 3325,\n",
       " 3330,\n",
       " 3335,\n",
       " 3340,\n",
       " 3345,\n",
       " 3350,\n",
       " 3355,\n",
       " 3360,\n",
       " 3365,\n",
       " 3370,\n",
       " 3375,\n",
       " 3380,\n",
       " 3385,\n",
       " 3390,\n",
       " 3395,\n",
       " 3400,\n",
       " 3405,\n",
       " 3410,\n",
       " 3415,\n",
       " 3420,\n",
       " 3425,\n",
       " 3430,\n",
       " 3435,\n",
       " 3440,\n",
       " 3445,\n",
       " 3450,\n",
       " 3455,\n",
       " 3460,\n",
       " 3465,\n",
       " 3470,\n",
       " 3475,\n",
       " 3480,\n",
       " 3485,\n",
       " 3490,\n",
       " 3495,\n",
       " 3500,\n",
       " 3505,\n",
       " 3510,\n",
       " 3515,\n",
       " 3520,\n",
       " 3525,\n",
       " 3530,\n",
       " 3535,\n",
       " 3540,\n",
       " 3545,\n",
       " 3550,\n",
       " 3555,\n",
       " 3560,\n",
       " 3565,\n",
       " 3570,\n",
       " 3575,\n",
       " 3580,\n",
       " 3585,\n",
       " 3590,\n",
       " 3595,\n",
       " 3600,\n",
       " 3605,\n",
       " 3610,\n",
       " 3615,\n",
       " 3620,\n",
       " 3625,\n",
       " 3630,\n",
       " 3635,\n",
       " 3640,\n",
       " 3645,\n",
       " 3650,\n",
       " 3655,\n",
       " 3660,\n",
       " 3665,\n",
       " 3670,\n",
       " 3675,\n",
       " 3680,\n",
       " 3685,\n",
       " 3690,\n",
       " 3695,\n",
       " 3700,\n",
       " 3705,\n",
       " 3710,\n",
       " 3715,\n",
       " 3720,\n",
       " 3725,\n",
       " 3730,\n",
       " 3735,\n",
       " 3740,\n",
       " 3745,\n",
       " 3750,\n",
       " 3755,\n",
       " 3760,\n",
       " 3765,\n",
       " 3770,\n",
       " 3775,\n",
       " 3780,\n",
       " 3785,\n",
       " 3790,\n",
       " 3795,\n",
       " 3800,\n",
       " 3805,\n",
       " 3810,\n",
       " 3815,\n",
       " 3820,\n",
       " 3825,\n",
       " 3830,\n",
       " 3835,\n",
       " 3840,\n",
       " 3845,\n",
       " 3850,\n",
       " 3855,\n",
       " 3860,\n",
       " 3865,\n",
       " 3870,\n",
       " 3875,\n",
       " 3880,\n",
       " 3885,\n",
       " 3890,\n",
       " 3895,\n",
       " 3900,\n",
       " 3905,\n",
       " 3910,\n",
       " 3915,\n",
       " 3920,\n",
       " 3925,\n",
       " 3930,\n",
       " 3935,\n",
       " 3940,\n",
       " 3945,\n",
       " 3950,\n",
       " 3955,\n",
       " 3960,\n",
       " 3965,\n",
       " 3970,\n",
       " 3975,\n",
       " 3980,\n",
       " 3985,\n",
       " 3990,\n",
       " 3995,\n",
       " 4000,\n",
       " 4005,\n",
       " 4010,\n",
       " 4015,\n",
       " 4020,\n",
       " 4025,\n",
       " 4030,\n",
       " 4035,\n",
       " 4040,\n",
       " 4045,\n",
       " 4050,\n",
       " 4055,\n",
       " 4060,\n",
       " 4065,\n",
       " 4070,\n",
       " 4075,\n",
       " 4080,\n",
       " 4085,\n",
       " 4090,\n",
       " 4095,\n",
       " 4100,\n",
       " 4105,\n",
       " 4110,\n",
       " 4115,\n",
       " 4120,\n",
       " 4125,\n",
       " 4130,\n",
       " 4135,\n",
       " 4140,\n",
       " 4145,\n",
       " 4150,\n",
       " 4155,\n",
       " 4160,\n",
       " 4165,\n",
       " 4170,\n",
       " 4175,\n",
       " 4180,\n",
       " 4185,\n",
       " 4190,\n",
       " 4195,\n",
       " 4200,\n",
       " 4205,\n",
       " 4210,\n",
       " 4215,\n",
       " 4220,\n",
       " 4225,\n",
       " 4230,\n",
       " 4235,\n",
       " 4240,\n",
       " 4245,\n",
       " 4250,\n",
       " 4255,\n",
       " 4260,\n",
       " 4265,\n",
       " 4270,\n",
       " 4275,\n",
       " 4280,\n",
       " 4285,\n",
       " 4290,\n",
       " 4295,\n",
       " 4300,\n",
       " 4305,\n",
       " 4310,\n",
       " 4315,\n",
       " 4320,\n",
       " 4325,\n",
       " 4330,\n",
       " 4335,\n",
       " 4340,\n",
       " 4345,\n",
       " 4350,\n",
       " 4355,\n",
       " 4360,\n",
       " 4365,\n",
       " 4370,\n",
       " 4375,\n",
       " 4380,\n",
       " 4385,\n",
       " 4390,\n",
       " 4395,\n",
       " 4400,\n",
       " 4405,\n",
       " 4410,\n",
       " 4415,\n",
       " 4420,\n",
       " 4425,\n",
       " 4430,\n",
       " 4435,\n",
       " 4440,\n",
       " 4445,\n",
       " 4450,\n",
       " 4455,\n",
       " 4460,\n",
       " 4465,\n",
       " 4470,\n",
       " 4475,\n",
       " 4480,\n",
       " 4485,\n",
       " 4490,\n",
       " 4495,\n",
       " 4500,\n",
       " 4505,\n",
       " 4510,\n",
       " 4515,\n",
       " 4520,\n",
       " 4525,\n",
       " 4530,\n",
       " 4535,\n",
       " 4540,\n",
       " 4545,\n",
       " 4550,\n",
       " 4555,\n",
       " 4560,\n",
       " 4565,\n",
       " 4570,\n",
       " 4575,\n",
       " 4580,\n",
       " 4585,\n",
       " 4590,\n",
       " 4595,\n",
       " 4600,\n",
       " 4605,\n",
       " 4610,\n",
       " 4615,\n",
       " 4620,\n",
       " 4625,\n",
       " 4630,\n",
       " 4635,\n",
       " 4640,\n",
       " 4645,\n",
       " 4650,\n",
       " 4655,\n",
       " 4660,\n",
       " 4665,\n",
       " 4670,\n",
       " 4675,\n",
       " 4680,\n",
       " 4685,\n",
       " 4690,\n",
       " 4695,\n",
       " 4700,\n",
       " 4705,\n",
       " 4710,\n",
       " 4715,\n",
       " 4720,\n",
       " 4725,\n",
       " 4730,\n",
       " 4735,\n",
       " 4740,\n",
       " 4745,\n",
       " 4750,\n",
       " 4755,\n",
       " 4760,\n",
       " 4765,\n",
       " 4770,\n",
       " 4775,\n",
       " 4780,\n",
       " 4785,\n",
       " 4790,\n",
       " 4795,\n",
       " 4800,\n",
       " 4805,\n",
       " 4810,\n",
       " 4815,\n",
       " 4820,\n",
       " 4825,\n",
       " 4830,\n",
       " 4835,\n",
       " 4840,\n",
       " 4845,\n",
       " 4850,\n",
       " 4855,\n",
       " 4860,\n",
       " 4865,\n",
       " 4870,\n",
       " 4875,\n",
       " 4880,\n",
       " 4885,\n",
       " 4890,\n",
       " 4895,\n",
       " 4900,\n",
       " 4905,\n",
       " 4910,\n",
       " 4915,\n",
       " 4920,\n",
       " 4925,\n",
       " 4930,\n",
       " 4935,\n",
       " 4940,\n",
       " 4945,\n",
       " 4950,\n",
       " 4955,\n",
       " 4960,\n",
       " 4965,\n",
       " 4970,\n",
       " 4975,\n",
       " 4980,\n",
       " 4985,\n",
       " 4990,\n",
       " 4995,\n",
       " ...]"
      ]
     },
     "execution_count": 32,
     "metadata": {},
     "output_type": "execute_result"
    }
   ],
   "source": [
    "fives_list = list(range(0,5001,5))\n",
    "fives_list"
   ]
  },
  {
   "cell_type": "code",
   "execution_count": 33,
   "id": "b3c19fe3",
   "metadata": {},
   "outputs": [
    {
     "data": {
      "text/plain": [
       "array([   0,    5,   10, ..., 4990, 4995, 5000])"
      ]
     },
     "execution_count": 33,
     "metadata": {},
     "output_type": "execute_result"
    }
   ],
   "source": [
    "five_times_table_lge = np.arange(0,5001,5)\n",
    "five_times_table_lge"
   ]
  },
  {
   "cell_type": "code",
   "execution_count": 34,
   "id": "b788afc7",
   "metadata": {},
   "outputs": [
    {
     "name": "stdout",
     "output_type": "stream",
     "text": [
      "3.08 µs ± 270 ns per loop (mean ± std. dev. of 7 runs, 100,000 loops each)\n"
     ]
    }
   ],
   "source": [
    "%timeit five_times_table_lge + 5"
   ]
  },
  {
   "cell_type": "code",
   "execution_count": 35,
   "id": "9635d958",
   "metadata": {},
   "outputs": [
    {
     "name": "stdout",
     "output_type": "stream",
     "text": [
      "128 µs ± 6.78 µs per loop (mean ± std. dev. of 7 runs, 10,000 loops each)\n"
     ]
    }
   ],
   "source": [
    "%timeit [e + 5 for e in fives_list]"
   ]
  },
  {
   "cell_type": "code",
   "execution_count": 36,
   "id": "26310c7f",
   "metadata": {},
   "outputs": [
    {
     "name": "stdout",
     "output_type": "stream",
     "text": [
      "[False False False False False]\n",
      "False\n"
     ]
    },
    {
     "data": {
      "text/plain": [
       "[True, True, True, True, False]"
      ]
     },
     "execution_count": 36,
     "metadata": {},
     "output_type": "execute_result"
    }
   ],
   "source": [
    "words = np.array([\"ten\", \"nine\", \"eight\", \"seven\", \"six\"])\n",
    "\n",
    "print(np.isin(words, 'e'))\n",
    "\n",
    "print(\"e\" in words)\n",
    "[\"e\" in word for word in words]"
   ]
  },
  {
   "cell_type": "markdown",
   "id": "51cdd696",
   "metadata": {},
   "source": [
    "# Transpose"
   ]
  },
  {
   "cell_type": "code",
   "execution_count": 37,
   "id": "cde5d870",
   "metadata": {},
   "outputs": [
    {
     "name": "stdout",
     "output_type": "stream",
     "text": [
      "[[10  5  8 32 65 43]\n",
      " [32 18 26 60 55 65]] \n",
      "\n",
      "[[10 32]\n",
      " [ 5 18]\n",
      " [ 8 26]\n",
      " [32 60]\n",
      " [65 55]\n",
      " [43 65]]\n"
     ]
    }
   ],
   "source": [
    "people.shape = (2, 6)\n",
    "print(people, \"\\n\")\n",
    "print(people.T)"
   ]
  },
  {
   "cell_type": "markdown",
   "id": "8b5b2259",
   "metadata": {},
   "source": [
    "# Data Types"
   ]
  },
  {
   "cell_type": "code",
   "execution_count": 38,
   "id": "c6db52d9",
   "metadata": {},
   "outputs": [
    {
     "data": {
      "text/plain": [
       "dtype('int32')"
      ]
     },
     "execution_count": 38,
     "metadata": {},
     "output_type": "execute_result"
    }
   ],
   "source": [
    "people.dtype"
   ]
  },
  {
   "cell_type": "code",
   "execution_count": 39,
   "id": "48e499aa",
   "metadata": {},
   "outputs": [
    {
     "data": {
      "text/plain": [
       "array([10,  5,  8, 32, 65, 43])"
      ]
     },
     "execution_count": 39,
     "metadata": {},
     "output_type": "execute_result"
    }
   ],
   "source": [
    "ages_with_strings = np.array([10, 5, 8, '32', '65', '43'], dtype='int32')\n",
    "ages_with_strings"
   ]
  },
  {
   "cell_type": "code",
   "execution_count": 40,
   "id": "eefc5d11",
   "metadata": {},
   "outputs": [
    {
     "name": "stdout",
     "output_type": "stream",
     "text": [
      "['10' '5' '8' '32' '65' '43']\n"
     ]
    }
   ],
   "source": [
    "ages_with_strings = np.array([10, 5, 8, '32', '65', '43'])\n",
    "print(ages_with_strings)"
   ]
  },
  {
   "cell_type": "code",
   "execution_count": 41,
   "id": "e370cebc",
   "metadata": {},
   "outputs": [
    {
     "name": "stdout",
     "output_type": "stream",
     "text": [
      "[49 48  0  0  0  0  0  0  0  0  0 53  0  0  0  0  0  0  0  0  0  0 56  0\n",
      "  0  0  0  0  0  0  0  0  0 51 50  0  0  0  0  0  0  0  0  0 54 53  0  0\n",
      "  0  0  0  0  0  0  0 52 51  0  0  0  0  0  0  0  0  0]\n"
     ]
    }
   ],
   "source": [
    "ages_with_strings.dtype = 'int32'\n",
    "print(ages_with_strings)"
   ]
  },
  {
   "cell_type": "code",
   "execution_count": 42,
   "id": "87e58b06",
   "metadata": {},
   "outputs": [
    {
     "data": {
      "text/plain": [
       "66"
      ]
     },
     "execution_count": 42,
     "metadata": {},
     "output_type": "execute_result"
    }
   ],
   "source": [
    "ages_with_strings.size"
   ]
  },
  {
   "cell_type": "code",
   "execution_count": 43,
   "id": "edfdd6b9",
   "metadata": {},
   "outputs": [
    {
     "data": {
      "text/plain": [
       "3.142857142857143"
      ]
     },
     "execution_count": 43,
     "metadata": {},
     "output_type": "execute_result"
    }
   ],
   "source": [
    "ages_with_strings.size/21"
   ]
  },
  {
   "cell_type": "code",
   "execution_count": 44,
   "id": "cddccc46",
   "metadata": {},
   "outputs": [
    {
     "data": {
      "text/plain": [
       "6"
      ]
     },
     "execution_count": 44,
     "metadata": {},
     "output_type": "execute_result"
    }
   ],
   "source": [
    "np.array([10, 5, 8, '32', '65', '43']).size"
   ]
  },
  {
   "cell_type": "code",
   "execution_count": 45,
   "id": "5b5ebfaa",
   "metadata": {},
   "outputs": [
    {
     "name": "stdout",
     "output_type": "stream",
     "text": [
      "['10' '5' '8' '32' '65' '43']\n",
      "[10  5  8 32 65 43]\n"
     ]
    }
   ],
   "source": [
    "ages_with_strings = np.array([10, 5, 8, '32', '65', '43'])\n",
    "print(ages_with_strings)\n",
    "print(ages_with_strings.astype('int32'))"
   ]
  },
  {
   "cell_type": "markdown",
   "id": "9cb241f4",
   "metadata": {},
   "source": [
    "### Exercise\n",
    "\n",
    "* #### Create an array of string numbers, but use dtype to make it an array of floats.\n",
    "* #### Transpose the matrix, printing the new size and shape.\n",
    "* #### Use the .astype() method to convert the array to boolean."
   ]
  },
  {
   "cell_type": "code",
   "execution_count": 52,
   "id": "cc6166aa",
   "metadata": {},
   "outputs": [],
   "source": [
    "string_num =np.array(['7','9', '65', '33', '85', '99'])"
   ]
  },
  {
   "cell_type": "code",
   "execution_count": 53,
   "id": "6a835cba",
   "metadata": {},
   "outputs": [
    {
     "data": {
      "text/plain": [
       "array(['7', '9', '65', '33', '85', '99'], dtype='<U2')"
      ]
     },
     "execution_count": 53,
     "metadata": {},
     "output_type": "execute_result"
    }
   ],
   "source": [
    "string_num"
   ]
  },
  {
   "cell_type": "code",
   "execution_count": 54,
   "id": "52172dc5",
   "metadata": {},
   "outputs": [
    {
     "data": {
      "text/plain": [
       "dtype('<U2')"
      ]
     },
     "execution_count": 54,
     "metadata": {},
     "output_type": "execute_result"
    }
   ],
   "source": [
    "string_num.dtype"
   ]
  },
  {
   "cell_type": "code",
   "execution_count": 69,
   "id": "8f7a16bb",
   "metadata": {},
   "outputs": [],
   "source": [
    "string_num.dtype='float64'"
   ]
  },
  {
   "cell_type": "code",
   "execution_count": 70,
   "id": "a9a6cfa5",
   "metadata": {},
   "outputs": [
    {
     "data": {
      "text/plain": [
       "dtype('float64')"
      ]
     },
     "execution_count": 70,
     "metadata": {},
     "output_type": "execute_result"
    }
   ],
   "source": [
    "string_num.dtype"
   ]
  },
  {
   "cell_type": "code",
   "execution_count": 63,
   "id": "60230ebc",
   "metadata": {},
   "outputs": [
    {
     "data": {
      "text/plain": [
       "array([[1, 2, 4],\n",
       "       [2, 3, 0]])"
      ]
     },
     "execution_count": 63,
     "metadata": {},
     "output_type": "execute_result"
    }
   ],
   "source": [
    "my_mat1=np.array([[1,2,4],[2,3,0]])\n",
    "my_mat1"
   ]
  },
  {
   "cell_type": "code",
   "execution_count": 65,
   "id": "33078ae2",
   "metadata": {},
   "outputs": [
    {
     "data": {
      "text/plain": [
       "(2, 3)"
      ]
     },
     "execution_count": 65,
     "metadata": {},
     "output_type": "execute_result"
    }
   ],
   "source": [
    "my_mat1.shape"
   ]
  },
  {
   "cell_type": "code",
   "execution_count": 66,
   "id": "8fcad44d",
   "metadata": {},
   "outputs": [],
   "source": [
    "TRAN_MAT=my_mat1.T"
   ]
  },
  {
   "cell_type": "code",
   "execution_count": 67,
   "id": "d33db29f",
   "metadata": {},
   "outputs": [
    {
     "data": {
      "text/plain": [
       "array([[1, 2],\n",
       "       [2, 3],\n",
       "       [4, 0]])"
      ]
     },
     "execution_count": 67,
     "metadata": {},
     "output_type": "execute_result"
    }
   ],
   "source": [
    "TRAN_MAT"
   ]
  },
  {
   "cell_type": "code",
   "execution_count": 68,
   "id": "49b9843e",
   "metadata": {},
   "outputs": [
    {
     "data": {
      "text/plain": [
       "(3, 2)"
      ]
     },
     "execution_count": 68,
     "metadata": {},
     "output_type": "execute_result"
    }
   ],
   "source": [
    "TRAN_MAT.shape"
   ]
  },
  {
   "cell_type": "code",
   "execution_count": 73,
   "id": "4a33ba26",
   "metadata": {},
   "outputs": [],
   "source": [
    "boo=my_mat1.astype(bool)"
   ]
  },
  {
   "cell_type": "code",
   "execution_count": 74,
   "id": "2bc282d2",
   "metadata": {},
   "outputs": [
    {
     "data": {
      "text/plain": [
       "array([[ True,  True,  True],\n",
       "       [ True,  True, False]])"
      ]
     },
     "execution_count": 74,
     "metadata": {},
     "output_type": "execute_result"
    }
   ],
   "source": [
    "boo"
   ]
  },
  {
   "cell_type": "code",
   "execution_count": 75,
   "id": "564ca9b2",
   "metadata": {},
   "outputs": [
    {
     "data": {
      "text/plain": [
       "dtype('bool')"
      ]
     },
     "execution_count": 75,
     "metadata": {},
     "output_type": "execute_result"
    }
   ],
   "source": [
    "boo.dtype"
   ]
  },
  {
   "cell_type": "markdown",
   "id": "25a7e040",
   "metadata": {},
   "source": [
    "## Array Slicing Operations"
   ]
  },
  {
   "cell_type": "code",
   "execution_count": 76,
   "id": "bd1d3071",
   "metadata": {},
   "outputs": [
    {
     "data": {
      "text/plain": [
       "array([ 0,  5, 10, 15, 20, 25, 30, 35, 40, 45, 50])"
      ]
     },
     "execution_count": 76,
     "metadata": {},
     "output_type": "execute_result"
    }
   ],
   "source": [
    "five_times_table"
   ]
  },
  {
   "cell_type": "code",
   "execution_count": 77,
   "id": "a3486dc3",
   "metadata": {},
   "outputs": [
    {
     "data": {
      "text/plain": [
       "0"
      ]
     },
     "execution_count": 77,
     "metadata": {},
     "output_type": "execute_result"
    }
   ],
   "source": [
    "five_times_table[0]"
   ]
  },
  {
   "cell_type": "code",
   "execution_count": 78,
   "id": "29d0348a",
   "metadata": {},
   "outputs": [
    {
     "data": {
      "text/plain": [
       "50"
      ]
     },
     "execution_count": 78,
     "metadata": {},
     "output_type": "execute_result"
    }
   ],
   "source": [
    "five_times_table[-1]"
   ]
  },
  {
   "cell_type": "code",
   "execution_count": 79,
   "id": "2df4a88d",
   "metadata": {},
   "outputs": [
    {
     "data": {
      "text/plain": [
       "array([ 0,  5, 10, 15])"
      ]
     },
     "execution_count": 79,
     "metadata": {},
     "output_type": "execute_result"
    }
   ],
   "source": [
    "five_times_table[:4]"
   ]
  },
  {
   "cell_type": "code",
   "execution_count": 80,
   "id": "72b5b8db",
   "metadata": {},
   "outputs": [
    {
     "data": {
      "text/plain": [
       "array([20, 25, 30, 35, 40, 45, 50])"
      ]
     },
     "execution_count": 80,
     "metadata": {},
     "output_type": "execute_result"
    }
   ],
   "source": [
    "five_times_table[4:]"
   ]
  },
  {
   "cell_type": "code",
   "execution_count": 81,
   "id": "c0c72cdf",
   "metadata": {},
   "outputs": [
    {
     "name": "stdout",
     "output_type": "stream",
     "text": [
      "[[10  5  8 32 65 43]\n",
      " [32 18 26 60 55 65]]\n"
     ]
    },
    {
     "data": {
      "text/plain": [
       "array([[10,  5,  8],\n",
       "       [32, 18, 26]])"
      ]
     },
     "execution_count": 81,
     "metadata": {},
     "output_type": "execute_result"
    }
   ],
   "source": [
    "print(people)\n",
    "people[:3, :3]"
   ]
  },
  {
   "cell_type": "markdown",
   "id": "f5bf34bc",
   "metadata": {},
   "source": [
    "### Exercise\n",
    "\n",
    "* Create a numpy array with 50 zeros\n",
    "* Create a np array of 2 repeated 20 times\n",
    "* Create a numpy array from 0 to 2 $\\pi$ in steps of 0.1\n",
    "\n",
    "For one of the arrays generated:\n",
    "* Get the first five values\n",
    "* Get the last 3 values\n",
    "* Get the 4th value to the 7th value"
   ]
  },
  {
   "cell_type": "code",
   "execution_count": 82,
   "id": "8d05684b",
   "metadata": {},
   "outputs": [],
   "source": [
    "zero=np.zeros(50)"
   ]
  },
  {
   "cell_type": "code",
   "execution_count": 83,
   "id": "0a6a2ebb",
   "metadata": {},
   "outputs": [
    {
     "data": {
      "text/plain": [
       "array([0., 0., 0., 0., 0., 0., 0., 0., 0., 0., 0., 0., 0., 0., 0., 0., 0.,\n",
       "       0., 0., 0., 0., 0., 0., 0., 0., 0., 0., 0., 0., 0., 0., 0., 0., 0.,\n",
       "       0., 0., 0., 0., 0., 0., 0., 0., 0., 0., 0., 0., 0., 0., 0., 0.])"
      ]
     },
     "execution_count": 83,
     "metadata": {},
     "output_type": "execute_result"
    }
   ],
   "source": [
    "zero"
   ]
  },
  {
   "cell_type": "code",
   "execution_count": 84,
   "id": "abece4b1",
   "metadata": {},
   "outputs": [],
   "source": [
    "two=np.repeat(2, 20)"
   ]
  },
  {
   "cell_type": "code",
   "execution_count": 85,
   "id": "f7ab98de",
   "metadata": {},
   "outputs": [
    {
     "data": {
      "text/plain": [
       "array([2, 2, 2, 2, 2, 2, 2, 2, 2, 2, 2, 2, 2, 2, 2, 2, 2, 2, 2, 2])"
      ]
     },
     "execution_count": 85,
     "metadata": {},
     "output_type": "execute_result"
    }
   ],
   "source": [
    "two"
   ]
  },
  {
   "cell_type": "code",
   "execution_count": 89,
   "id": "bc94f68f",
   "metadata": {},
   "outputs": [],
   "source": [
    "import math\n",
    "pi=np.arange(0, math.pi, 0.1)"
   ]
  },
  {
   "cell_type": "code",
   "execution_count": 90,
   "id": "ee15757b",
   "metadata": {},
   "outputs": [
    {
     "data": {
      "text/plain": [
       "array([0. , 0.1, 0.2, 0.3, 0.4, 0.5, 0.6, 0.7, 0.8, 0.9, 1. , 1.1, 1.2,\n",
       "       1.3, 1.4, 1.5, 1.6, 1.7, 1.8, 1.9, 2. , 2.1, 2.2, 2.3, 2.4, 2.5,\n",
       "       2.6, 2.7, 2.8, 2.9, 3. , 3.1])"
      ]
     },
     "execution_count": 90,
     "metadata": {},
     "output_type": "execute_result"
    }
   ],
   "source": [
    "pi"
   ]
  },
  {
   "cell_type": "code",
   "execution_count": 93,
   "id": "6589a2c3",
   "metadata": {},
   "outputs": [
    {
     "data": {
      "text/plain": [
       "array([0. , 0.1, 0.2, 0.3, 0.4])"
      ]
     },
     "execution_count": 93,
     "metadata": {},
     "output_type": "execute_result"
    }
   ],
   "source": [
    "pi[0:5]"
   ]
  },
  {
   "cell_type": "code",
   "execution_count": 96,
   "id": "d9a7b7e3",
   "metadata": {},
   "outputs": [
    {
     "data": {
      "text/plain": [
       "array([2.9, 3. , 3.1])"
      ]
     },
     "execution_count": 96,
     "metadata": {},
     "output_type": "execute_result"
    }
   ],
   "source": [
    "pi[-3:]"
   ]
  },
  {
   "cell_type": "code",
   "execution_count": 99,
   "id": "8c39cf3b",
   "metadata": {},
   "outputs": [
    {
     "data": {
      "text/plain": [
       "array([0.3, 0.4, 0.5, 0.6])"
      ]
     },
     "execution_count": 99,
     "metadata": {},
     "output_type": "execute_result"
    }
   ],
   "source": [
    "pi[3:7]"
   ]
  },
  {
   "cell_type": "code",
   "execution_count": 100,
   "id": "237199e1",
   "metadata": {},
   "outputs": [
    {
     "data": {
      "text/plain": [
       "array([50, 45, 40, 35, 30, 25, 20, 15, 10,  5,  0])"
      ]
     },
     "execution_count": 100,
     "metadata": {},
     "output_type": "execute_result"
    }
   ],
   "source": [
    "reverse_five_times_table = np.flip(five_times_table)\n",
    "reverse_five_times_table"
   ]
  },
  {
   "cell_type": "code",
   "execution_count": 101,
   "id": "1a458e1d",
   "metadata": {},
   "outputs": [
    {
     "name": "stdout",
     "output_type": "stream",
     "text": [
      "[50 45 40 35 30 25 20 15 10  5  0]\n"
     ]
    },
    {
     "data": {
      "text/plain": [
       "array([ 0,  5, 10, 15, 20, 25, 30, 35, 40, 45, 50])"
      ]
     },
     "execution_count": 101,
     "metadata": {},
     "output_type": "execute_result"
    }
   ],
   "source": [
    "reverse_five_times_table = five_times_table[-1::-1]\n",
    "print(reverse_five_times_table)\n",
    "five_times_table"
   ]
  },
  {
   "cell_type": "code",
   "execution_count": 102,
   "id": "2ee53de5",
   "metadata": {},
   "outputs": [
    {
     "data": {
      "text/plain": [
       "array([ 0, 15, 30, 45])"
      ]
     },
     "execution_count": 102,
     "metadata": {},
     "output_type": "execute_result"
    }
   ],
   "source": [
    "five_times_table[0::3] #Every 3rd element starting from 0"
   ]
  },
  {
   "cell_type": "markdown",
   "id": "890dbe00",
   "metadata": {},
   "source": [
    "### Exercise\n",
    "Take one of the arrays you defined and\n",
    "* #### Reverse it\n",
    "* #### Only keep every 4th element.\n",
    "* #### Get every 2nd element, starting from the last and moving backwards."
   ]
  },
  {
   "cell_type": "code",
   "execution_count": 97,
   "id": "3e1f764e",
   "metadata": {},
   "outputs": [],
   "source": [
    "reverse_l = np.flip(pi)"
   ]
  },
  {
   "cell_type": "code",
   "execution_count": 98,
   "id": "cd8ae765",
   "metadata": {},
   "outputs": [
    {
     "data": {
      "text/plain": [
       "array([3.1, 3. , 2.9, 2.8, 2.7, 2.6, 2.5, 2.4, 2.3, 2.2, 2.1, 2. , 1.9,\n",
       "       1.8, 1.7, 1.6, 1.5, 1.4, 1.3, 1.2, 1.1, 1. , 0.9, 0.8, 0.7, 0.6,\n",
       "       0.5, 0.4, 0.3, 0.2, 0.1, 0. ])"
      ]
     },
     "execution_count": 98,
     "metadata": {},
     "output_type": "execute_result"
    }
   ],
   "source": [
    "reverse_l"
   ]
  },
  {
   "cell_type": "code",
   "execution_count": 103,
   "id": "ef543d4a",
   "metadata": {},
   "outputs": [
    {
     "data": {
      "text/plain": [
       "array([3.1, 2.7, 2.3, 1.9, 1.5, 1.1, 0.7, 0.3])"
      ]
     },
     "execution_count": 103,
     "metadata": {},
     "output_type": "execute_result"
    }
   ],
   "source": [
    "reverse_l[0::4]"
   ]
  },
  {
   "cell_type": "markdown",
   "id": "6895f3f5",
   "metadata": {},
   "source": [
    "# Stats"
   ]
  },
  {
   "cell_type": "code",
   "execution_count": 104,
   "id": "5a6924e8",
   "metadata": {},
   "outputs": [
    {
     "data": {
      "text/plain": [
       "array([1.65, 5.99])"
      ]
     },
     "execution_count": 104,
     "metadata": {},
     "output_type": "execute_result"
    }
   ],
   "source": [
    "np.array([1.65432, 5.98765]).round(2)"
   ]
  },
  {
   "cell_type": "code",
   "execution_count": 105,
   "id": "d94a94fd",
   "metadata": {},
   "outputs": [],
   "source": [
    "nums = np.arange(0, 4, 0.2555)"
   ]
  },
  {
   "cell_type": "markdown",
   "id": "649eeda6",
   "metadata": {},
   "source": [
    "### Exercise\n",
    "\n",
    "* Compute min, max, sum, mean, median, variance, and standard deviation of the above array, all to to 2 decimal places."
   ]
  },
  {
   "cell_type": "code",
   "execution_count": 107,
   "id": "eaa83f2f",
   "metadata": {},
   "outputs": [
    {
     "name": "stdout",
     "output_type": "stream",
     "text": [
      "min =  0.0\n",
      "max =  3.83\n",
      "sum =  30.66\n",
      "mean =  1.92\n",
      "median =  1.92\n",
      "var =  1.39\n",
      "std =  1.18\n"
     ]
    }
   ],
   "source": [
    "print(\"min = \", np.min(nums).round(2))\n",
    "print(\"max = \", np.max(nums).round(2))\n",
    "print(\"sum = \", np.sum(nums).round(2))\n",
    "print(\"mean = \", np.mean(nums).round(2))\n",
    "print(\"median = \", np.median(nums).round(2))\n",
    "print(\"var = \", np.var(nums).round(2))\n",
    "print(\"std = \", np.std(nums).round(2))"
   ]
  },
  {
   "cell_type": "markdown",
   "id": "479e0597",
   "metadata": {},
   "source": [
    "## Random"
   ]
  },
  {
   "cell_type": "code",
   "execution_count": 108,
   "id": "054af57d",
   "metadata": {},
   "outputs": [
    {
     "data": {
      "text/plain": [
       "array([0, 0, 1, 1, 0, 1, 0, 0, 0, 1])"
      ]
     },
     "execution_count": 108,
     "metadata": {},
     "output_type": "execute_result"
    }
   ],
   "source": [
    "flip = np.random.choice([0,1], 10)\n",
    "flip"
   ]
  },
  {
   "cell_type": "code",
   "execution_count": 109,
   "id": "403a55df",
   "metadata": {},
   "outputs": [
    {
     "data": {
      "text/plain": [
       "array([[[0.37186052, 0.98496475, 0.92300328, ..., 0.1648018 ,\n",
       "         0.49165877, 0.46722098],\n",
       "        [0.29949287, 0.5567671 , 0.68556894, ..., 0.56964676,\n",
       "         0.06774306, 0.404917  ],\n",
       "        [0.60877984, 0.03833931, 0.20211719, ..., 0.36804242,\n",
       "         0.83601037, 0.98503129],\n",
       "        ...,\n",
       "        [0.96298467, 0.82057372, 0.22511696, ..., 0.31185522,\n",
       "         0.14362197, 0.29906797],\n",
       "        [0.92451487, 0.72121631, 0.09174731, ..., 0.24396957,\n",
       "         0.41613081, 0.67238205],\n",
       "        [0.21238818, 0.27008505, 0.29417281, ..., 0.49227117,\n",
       "         0.94354087, 0.94914917]],\n",
       "\n",
       "       [[0.407747  , 0.22428368, 0.36067887, ..., 0.42147369,\n",
       "         0.24767892, 0.51699229],\n",
       "        [0.36235488, 0.18002083, 0.12335265, ..., 0.9619619 ,\n",
       "         0.30104495, 0.10543487],\n",
       "        [0.11743311, 0.12211584, 0.35046007, ..., 0.40549588,\n",
       "         0.95768784, 0.73098994],\n",
       "        ...,\n",
       "        [0.76095118, 0.04349266, 0.70717339, ..., 0.84349868,\n",
       "         0.41460224, 0.57651199],\n",
       "        [0.35122094, 0.33225029, 0.2004874 , ..., 0.08999279,\n",
       "         0.44766359, 0.43156467],\n",
       "        [0.70166919, 0.02314065, 0.64261837, ..., 0.41957829,\n",
       "         0.68318035, 0.28611599]],\n",
       "\n",
       "       [[0.87207977, 0.37550482, 0.19739029, ..., 0.86719414,\n",
       "         0.6304979 , 0.33569454],\n",
       "        [0.76544465, 0.78518336, 0.53818731, ..., 0.86743129,\n",
       "         0.42249472, 0.80641762],\n",
       "        [0.56848716, 0.72723434, 0.85393909, ..., 0.64324806,\n",
       "         0.22874278, 0.65239634],\n",
       "        ...,\n",
       "        [0.89737955, 0.9715737 , 0.19434914, ..., 0.64085873,\n",
       "         0.69511694, 0.98478845],\n",
       "        [0.39090354, 0.45837754, 0.93253883, ..., 0.69124983,\n",
       "         0.21420121, 0.74893318],\n",
       "        [0.41745713, 0.74792822, 0.83169277, ..., 0.35319949,\n",
       "         0.7770719 , 0.56653764]],\n",
       "\n",
       "       ...,\n",
       "\n",
       "       [[0.53516876, 0.17464492, 0.91526991, ..., 0.71669806,\n",
       "         0.37999611, 0.68285864],\n",
       "        [0.96342764, 0.52197937, 0.91057135, ..., 0.95599551,\n",
       "         0.49765198, 0.24167916],\n",
       "        [0.78839633, 0.62356131, 0.8459053 , ..., 0.19705155,\n",
       "         0.98072463, 0.53580022],\n",
       "        ...,\n",
       "        [0.23878505, 0.08984622, 0.06186071, ..., 0.5099974 ,\n",
       "         0.16114367, 0.84731277],\n",
       "        [0.88486833, 0.54471575, 0.97356108, ..., 0.95129793,\n",
       "         0.07560698, 0.60182099],\n",
       "        [0.57011998, 0.12166853, 0.334195  , ..., 0.51079795,\n",
       "         0.26275362, 0.49905834]],\n",
       "\n",
       "       [[0.51871514, 0.70565007, 0.03862931, ..., 0.21490337,\n",
       "         0.55771298, 0.63067247],\n",
       "        [0.98948132, 0.32750641, 0.3815669 , ..., 0.43107228,\n",
       "         0.65313956, 0.62700845],\n",
       "        [0.81742649, 0.16144075, 0.85800964, ..., 0.69861388,\n",
       "         0.41521915, 0.17465764],\n",
       "        ...,\n",
       "        [0.27795399, 0.94713776, 0.15311941, ..., 0.01043066,\n",
       "         0.31591076, 0.68511954],\n",
       "        [0.09992527, 0.01487832, 0.85404864, ..., 0.04822727,\n",
       "         0.81553353, 0.78283307],\n",
       "        [0.42730229, 0.98387676, 0.0594567 , ..., 0.64301298,\n",
       "         0.36531546, 0.23004009]],\n",
       "\n",
       "       [[0.56898073, 0.67636119, 0.16716422, ..., 0.47441267,\n",
       "         0.44612297, 0.60124765],\n",
       "        [0.08984725, 0.27945482, 0.17273357, ..., 0.04061772,\n",
       "         0.75718066, 0.36108123],\n",
       "        [0.67449701, 0.37994529, 0.62624383, ..., 0.30209507,\n",
       "         0.13284215, 0.96165208],\n",
       "        ...,\n",
       "        [0.49376861, 0.58024327, 0.55430452, ..., 0.49752547,\n",
       "         0.86010154, 0.91771438],\n",
       "        [0.95286572, 0.65738962, 0.36824506, ..., 0.63867872,\n",
       "         0.84333354, 0.70588472],\n",
       "        [0.28781631, 0.75137135, 0.67560995, ..., 0.37572643,\n",
       "         0.78108954, 0.73389658]]])"
      ]
     },
     "execution_count": 109,
     "metadata": {},
     "output_type": "execute_result"
    }
   ],
   "source": [
    "np.random.rand(10,20,9)"
   ]
  },
  {
   "cell_type": "code",
   "execution_count": 110,
   "id": "928d4bb8",
   "metadata": {},
   "outputs": [],
   "source": [
    "mu, sigma = 0, 0.1 # mean and standard deviation\n",
    "s = np.random.normal(mu, sigma, 1000)"
   ]
  },
  {
   "cell_type": "code",
   "execution_count": 111,
   "id": "b2e74197",
   "metadata": {},
   "outputs": [
    {
     "data": {
      "text/plain": [
       "array([ 1.70999546e-01,  3.39738659e-02,  7.62902700e-03,  5.92210092e-02,\n",
       "       -1.05033731e-01,  2.00406285e-02, -2.19349097e-02, -9.59504619e-02,\n",
       "        3.50784491e-02,  2.61021084e-02, -3.90688055e-02,  1.27701322e-01,\n",
       "       -1.71071385e-02, -1.27296519e-01, -1.10626769e-01,  5.18758068e-02,\n",
       "       -7.67583407e-03,  1.10957202e-01,  1.18922072e-01,  4.86885282e-02,\n",
       "        2.66243166e-02, -1.67725613e-02, -1.95802733e-02,  1.24433128e-02,\n",
       "        1.35550680e-01, -1.76107860e-01,  3.03624892e-02, -1.31742716e-03,\n",
       "       -5.56592379e-03, -6.07877444e-02,  8.45027169e-02, -1.20632590e-02,\n",
       "       -1.76687286e-01, -9.70827940e-03,  1.24240274e-01, -1.60497409e-01,\n",
       "       -9.76969151e-02,  8.95471112e-02,  9.66913212e-04,  2.14385320e-01,\n",
       "        8.04818004e-02,  1.36422010e-01, -2.67942885e-01,  2.72293002e-01,\n",
       "        6.84045007e-02, -4.02445475e-02,  4.40734538e-02, -1.45630859e-01,\n",
       "        8.44656398e-02, -2.55511886e-01, -2.32735437e-01,  1.09743297e-01,\n",
       "       -1.17763657e-01,  1.12231338e-02,  4.66749335e-02,  9.49344556e-02,\n",
       "       -2.34033717e-02,  4.72125407e-02, -4.07638002e-02, -1.30403585e-01,\n",
       "       -3.34379463e-02, -5.21629281e-02, -7.23345976e-02, -5.29569664e-02,\n",
       "       -2.89621238e-02, -2.85029936e-02, -1.41800265e-01,  6.98768239e-02,\n",
       "        7.91442765e-02,  2.40204110e-02, -2.01945015e-01,  1.17569562e-03,\n",
       "       -3.30187665e-02,  9.65805995e-02,  6.20168512e-02, -1.32863944e-01,\n",
       "        2.31253853e-01, -1.38369919e-01, -2.11185846e-02, -3.97358583e-02,\n",
       "        2.58242009e-02,  1.71218698e-03, -1.48128347e-01,  1.33472933e-01,\n",
       "       -2.05320839e-01, -5.41363310e-02,  1.86465398e-02,  4.61399555e-02,\n",
       "       -7.79209779e-03, -6.64045985e-03,  6.59076804e-02,  8.26156650e-02,\n",
       "       -1.96338811e-01, -4.96290670e-02, -1.22418298e-01, -1.19868899e-01,\n",
       "       -1.91956194e-02,  1.32333322e-01, -1.36826879e-01, -4.04422749e-02,\n",
       "       -2.53066809e-02, -2.84369765e-02, -1.69820143e-01, -1.21747937e-01,\n",
       "       -1.57017748e-01, -7.51008762e-02, -3.30662014e-02, -1.22444721e-01,\n",
       "       -1.21686409e-01, -3.47456722e-02,  1.52401880e-01,  1.36176514e-01,\n",
       "       -7.37509133e-02,  1.19328929e-01,  5.19288860e-02, -1.04044384e-01,\n",
       "       -3.32973244e-02,  1.26630209e-01, -1.28071860e-01,  6.36217596e-02,\n",
       "        7.71811267e-02,  1.29430328e-02,  3.03768631e-02, -8.58735429e-03,\n",
       "       -2.54304311e-02, -1.99600666e-01,  9.58247953e-02, -5.51330343e-02,\n",
       "        2.29677432e-02,  2.92732811e-02, -7.04416746e-02, -3.89711777e-02,\n",
       "        2.14297769e-01,  8.32118160e-02, -1.40206746e-01,  6.47405990e-02,\n",
       "       -1.56225446e-03, -2.47454956e-01, -2.22850139e-01,  7.42907166e-02,\n",
       "       -2.70602452e-02, -2.08577885e-01, -6.08694457e-02, -2.52074016e-02,\n",
       "        6.00289779e-02, -1.14870677e-01, -8.00014148e-02, -1.74955098e-01,\n",
       "        1.29164659e-01,  6.04281824e-02, -6.86547443e-02,  6.95967805e-02,\n",
       "        6.30699512e-02,  1.86442589e-02,  7.36480967e-02,  1.15907645e-01,\n",
       "       -5.52015160e-02, -1.22875693e-01, -3.99606000e-02,  1.92767099e-02,\n",
       "        1.65882428e-01,  2.29989806e-01,  7.71629975e-02, -1.79647052e-01,\n",
       "       -3.86400542e-02,  1.06064734e-01,  6.47493095e-02,  2.50149108e-02,\n",
       "       -5.23771446e-02,  2.39425262e-02,  1.71967633e-01,  4.98088474e-02,\n",
       "       -1.56170976e-02, -4.20480234e-02,  1.16083526e-01,  2.52381705e-01,\n",
       "        2.16153029e-01,  2.27492566e-01, -3.47852827e-02, -4.66527845e-02,\n",
       "        6.09700616e-02,  1.44855283e-01, -1.09276391e-01,  1.13751953e-02,\n",
       "       -5.43896312e-02,  9.94616046e-02,  2.23331042e-03,  3.49778273e-02,\n",
       "        9.72065022e-02,  8.10462500e-02, -5.30644879e-02, -1.01433275e-01,\n",
       "       -3.67701160e-02,  1.30950774e-03,  2.27736269e-02,  2.71070330e-02,\n",
       "        4.19752645e-02,  3.38891713e-02, -6.92655559e-03, -3.91439482e-02,\n",
       "       -8.72071113e-02,  2.48159429e-02,  2.18044904e-01,  9.70535269e-02,\n",
       "       -6.43248859e-02,  4.57172635e-02,  1.09223196e-01,  7.50027735e-02,\n",
       "        6.88866245e-02, -7.19928687e-02, -6.53138965e-02, -4.59941147e-02,\n",
       "        2.03886688e-01, -1.23461365e-01,  5.08239193e-02,  1.03735522e-01,\n",
       "       -4.84807209e-03,  1.33450195e-01,  1.81671535e-01,  1.09824822e-01,\n",
       "        1.09768511e-01,  1.32876673e-01,  1.12574005e-01,  1.19907927e-01,\n",
       "       -1.46856377e-01, -2.06920781e-02, -3.39027795e-02,  2.40954469e-02,\n",
       "       -8.76857722e-03,  2.25014185e-01,  1.34053336e-01,  4.97321744e-03,\n",
       "       -2.44432149e-01,  5.43235047e-02,  8.89101609e-02,  9.68979775e-02,\n",
       "       -1.12365182e-01,  1.59899412e-02, -4.42601394e-02, -1.34417101e-02,\n",
       "        5.94608622e-02, -1.24326700e-01, -8.81155694e-02,  1.18508303e-01,\n",
       "       -1.01826968e-03, -6.44358337e-03,  9.69650132e-02,  1.62474235e-01,\n",
       "       -1.05298833e-01,  2.35053041e-01,  8.78148513e-02, -2.44526709e-02,\n",
       "       -2.88799387e-02, -7.92376705e-03,  1.73139688e-01,  2.24587113e-01,\n",
       "       -4.25295179e-02,  3.75872621e-03, -5.92801073e-02,  1.98508301e-01,\n",
       "        1.18717126e-01, -2.77043816e-02,  1.77745713e-03, -7.28785890e-02,\n",
       "        4.99987753e-02, -2.59721754e-01,  1.91185086e-02, -2.16697180e-02,\n",
       "        1.15968616e-02, -5.87665480e-02, -1.74181295e-01,  2.44246997e-02,\n",
       "        5.69086239e-02,  7.53010709e-02,  1.10259669e-01, -1.00475252e-02,\n",
       "       -3.21654335e-02, -1.61054725e-01, -1.01075331e-01,  1.02089074e-02,\n",
       "        9.90971025e-02,  1.82951585e-02, -2.08267866e-01, -1.51520104e-01,\n",
       "        5.11170127e-02, -1.82944098e-02, -4.50569044e-02, -5.32706509e-02,\n",
       "       -3.34481684e-02, -1.38185889e-01, -1.04624054e-02,  3.20423550e-02,\n",
       "       -9.34234318e-03,  4.46445076e-02,  1.17583831e-01,  1.04151067e-01,\n",
       "       -1.25105141e-01,  2.04906375e-01,  3.78894071e-02,  3.09987952e-02,\n",
       "       -1.35156701e-01, -4.07071733e-02,  8.50631279e-02,  1.31966851e-02,\n",
       "       -6.27855388e-02, -3.79268486e-02,  2.07443316e-01, -8.44396390e-02,\n",
       "        1.09750552e-01, -5.99577450e-02, -1.34181732e-01,  2.24898695e-02,\n",
       "       -3.39380767e-02, -2.63290632e-01, -1.01870435e-01, -4.96569151e-02,\n",
       "       -9.54905436e-02, -4.27283348e-02, -9.28437238e-02,  5.19632287e-02,\n",
       "       -1.32192206e-01,  1.28299281e-02,  3.50748516e-02,  1.24363435e-01,\n",
       "        1.51488850e-01, -3.11078327e-02, -4.14883474e-02, -6.95416916e-02,\n",
       "        7.83352216e-03,  1.55955658e-01, -5.14644061e-02, -9.98991599e-02,\n",
       "        3.09710518e-02,  8.79017610e-02, -8.80040068e-02, -5.47299491e-02,\n",
       "       -1.09414795e-01,  7.41085367e-02,  1.78472740e-01,  3.62103158e-02,\n",
       "       -1.13798435e-03, -1.20410268e-01,  2.85426184e-02, -3.92540663e-02,\n",
       "        6.52162878e-02,  1.28091963e-01,  1.61862276e-02,  1.46237891e-01,\n",
       "        1.43694387e-03,  1.90520742e-02,  4.73914026e-04,  2.07148165e-02,\n",
       "       -8.25200251e-02, -4.75803406e-02,  6.97323037e-02,  2.32761733e-02,\n",
       "        9.96562673e-03, -9.58952682e-02, -6.68691856e-04,  2.27192971e-02,\n",
       "       -6.76346439e-02,  2.81130288e-02, -1.24263988e-01, -1.54231962e-01,\n",
       "        1.10218439e-02,  5.82608070e-02, -6.07068263e-02,  3.37854934e-02,\n",
       "        2.17255596e-01, -5.64141029e-02, -2.82475359e-01,  4.23281113e-03,\n",
       "       -7.16039912e-02, -1.06635146e-01, -1.11540021e-04, -9.32410245e-02,\n",
       "        8.58259454e-02, -8.37148215e-02, -4.05078982e-03,  1.09769076e-01,\n",
       "        6.37443976e-02,  2.48454818e-02, -8.50119905e-02, -9.25534510e-02,\n",
       "        1.81827173e-01, -8.78213561e-04,  2.55522201e-02,  9.39636861e-03,\n",
       "       -3.53160795e-02, -5.15758001e-03, -4.49109995e-02,  3.31981744e-02,\n",
       "        5.66106634e-02, -1.24812632e-01,  1.02396794e-02, -3.55423395e-02,\n",
       "       -1.24072787e-01,  3.22229684e-03,  1.07061284e-02,  5.20721182e-02,\n",
       "        2.02625622e-01, -1.19621613e-01, -2.91306419e-01,  9.09300290e-03,\n",
       "       -1.83623282e-03,  1.88392851e-02, -7.97176039e-02,  1.59743224e-01,\n",
       "        1.16865074e-02,  3.81885461e-02,  1.07606435e-01,  7.07833186e-02,\n",
       "       -8.58684173e-02,  8.82458932e-02,  6.06677610e-02,  7.57209412e-02,\n",
       "        1.47911101e-01, -8.27010103e-02, -7.62660452e-02, -3.39401663e-02,\n",
       "       -8.62150658e-02, -4.63628173e-03, -1.04090987e-02, -4.85284068e-02,\n",
       "       -4.05408750e-02,  4.63648510e-02, -7.58248122e-02, -5.79412500e-02,\n",
       "       -4.13314878e-02,  6.13213331e-02,  9.35812264e-02,  4.38107251e-02,\n",
       "        8.04917416e-02, -9.46190557e-02,  2.43477867e-02, -1.54085958e-01,\n",
       "       -6.04289005e-03, -2.82618228e-02,  2.96342071e-03,  1.34128907e-01,\n",
       "        8.50579028e-02, -1.68152822e-02,  1.45472411e-01,  1.81609139e-02,\n",
       "       -1.20275636e-02, -3.81016419e-03,  2.87510297e-03,  1.17692632e-01,\n",
       "       -1.13923413e-01, -1.26409263e-02, -9.11506686e-02,  3.50256811e-02,\n",
       "        8.47069727e-03,  2.75644094e-02,  7.70155229e-02, -3.70862964e-02,\n",
       "       -6.74597495e-02, -4.35449716e-02, -1.39224393e-01, -2.73175869e-02,\n",
       "       -1.16500507e-01,  4.06685599e-02, -8.45684948e-03,  2.26540792e-02,\n",
       "        1.15575925e-01, -1.91366573e-01,  6.96698804e-02,  5.94095140e-03,\n",
       "        6.31682000e-03, -7.81453487e-02, -2.19584975e-01,  9.77959462e-03,\n",
       "        1.08929399e-01, -1.45790510e-02,  1.05692783e-02,  3.84935177e-03,\n",
       "       -1.42961722e-01, -1.25824310e-01, -3.36887447e-02, -6.84169840e-02,\n",
       "       -5.91236672e-02,  8.89644547e-02, -5.33915686e-02, -4.23609448e-02,\n",
       "        7.02776129e-02, -1.12087530e-01, -6.01427319e-03, -3.23939903e-02,\n",
       "        3.18176368e-02,  1.11779772e-01,  2.98912516e-02,  7.57118927e-02,\n",
       "       -2.72407447e-02, -9.60939905e-04, -8.32572701e-02,  1.24695326e-01,\n",
       "       -1.49779444e-02,  2.10988495e-01, -1.54084026e-01,  1.02715578e-01,\n",
       "        9.24800837e-02, -1.99765835e-01, -3.70563719e-02, -6.63944894e-02,\n",
       "       -9.75564628e-02, -7.04123996e-03, -1.10799023e-01, -9.72697625e-02,\n",
       "        1.24271733e-01, -1.93091743e-01, -6.96813848e-02, -1.32436641e-01,\n",
       "       -6.34470967e-02,  2.82770615e-01,  1.45980667e-02,  1.87019851e-02,\n",
       "        1.01460339e-01,  9.02058239e-02,  7.31344857e-02, -3.48403135e-02,\n",
       "        7.20719270e-02, -9.47617337e-03,  8.98189844e-02, -3.60215948e-03,\n",
       "        1.05094973e-01,  8.26259821e-03,  3.42289092e-01,  3.93387604e-02,\n",
       "       -2.62057454e-02,  1.77046288e-01,  2.08941555e-01,  6.72761675e-02,\n",
       "        1.01011195e-01,  5.21879642e-02,  2.18482740e-02,  1.91961858e-01,\n",
       "       -1.60182409e-02, -1.39348012e-02, -6.60209104e-02,  1.17943637e-01,\n",
       "       -4.20705345e-02, -1.92366971e-01, -1.83450577e-01,  3.78228006e-02,\n",
       "       -1.10137587e-02,  3.69525654e-02,  4.40219238e-02,  5.19546296e-02,\n",
       "        1.05910577e-01, -5.32055379e-02, -5.86204683e-02,  1.57932977e-01,\n",
       "        2.12751672e-02, -2.45376481e-03, -1.69231462e-02,  2.01332598e-01,\n",
       "        1.35575740e-01, -7.35090687e-02,  1.82718305e-02,  1.62672469e-02,\n",
       "        4.59704751e-02,  5.06945302e-02,  8.81286068e-02,  5.51526961e-02,\n",
       "       -7.93777842e-02,  1.03184982e-01, -2.32300745e-02, -1.11355954e-01,\n",
       "        4.86898545e-02,  1.10203985e-01, -8.01542706e-02,  9.36337369e-03,\n",
       "        1.91869344e-02, -1.16721611e-01,  9.10985014e-03,  1.63014037e-01,\n",
       "       -4.02170537e-02, -9.01970710e-02,  2.95945932e-02,  9.55880423e-02,\n",
       "       -1.14539739e-01,  4.73026429e-02, -2.29609376e-01, -1.09537213e-01,\n",
       "       -1.95580488e-02,  9.15928511e-02,  6.91495419e-02,  7.31228723e-02,\n",
       "        5.67771222e-02,  3.56820511e-03, -7.68138758e-02, -2.65712440e-01,\n",
       "       -3.80702146e-02, -1.38277502e-02,  7.94667551e-02,  1.64582532e-02,\n",
       "       -9.20882673e-02, -1.02635432e-01, -4.86636255e-02, -8.37569798e-02,\n",
       "       -7.14910689e-02,  1.76641160e-01,  1.94091704e-01, -6.85857656e-02,\n",
       "        7.03037248e-02,  1.39901722e-01, -6.41088002e-03,  1.33276065e-01,\n",
       "       -3.66750986e-02,  4.12767019e-02, -1.33078100e-02, -5.00696453e-02,\n",
       "       -1.91053179e-03,  3.73072998e-02,  4.19293494e-02,  1.98977788e-01,\n",
       "       -9.47508120e-03, -7.29538227e-02, -4.65927011e-02, -1.76719332e-03,\n",
       "       -1.98690255e-01,  9.01097701e-02, -1.64839550e-01,  7.49069254e-02,\n",
       "        5.06188578e-02, -5.86459155e-03,  1.18568370e-01,  6.38709910e-02,\n",
       "       -1.00381260e-01,  7.17031292e-02, -2.65188569e-02, -5.38059004e-02,\n",
       "        2.36349728e-02, -2.17183719e-02, -7.22688936e-02,  5.20178252e-02,\n",
       "       -1.04000169e-01,  1.85758164e-01, -1.03772285e-01, -4.82199235e-02,\n",
       "       -2.13225184e-01, -9.93610347e-02, -9.66313452e-02,  1.86007965e-01,\n",
       "       -1.23303282e-01, -1.25115235e-01,  2.08291075e-02,  9.22360774e-02,\n",
       "       -1.35787479e-01,  1.42867159e-02, -1.34800384e-01, -1.42495703e-02,\n",
       "       -5.57658717e-02,  6.35762054e-02,  5.12147278e-02, -1.49597200e-01,\n",
       "       -5.49891700e-02, -2.28740061e-02, -8.26534785e-02,  1.05837875e-01,\n",
       "       -9.29672184e-02,  2.43538817e-01, -2.87213641e-02,  1.15861514e-02,\n",
       "        2.04115576e-02, -4.22458328e-03,  8.98285136e-02, -3.59480017e-02,\n",
       "        2.08212735e-02,  7.66175162e-02,  2.31139039e-02, -6.21314923e-02,\n",
       "       -4.17118828e-02, -1.14475851e-01,  1.45717210e-01, -4.13047288e-02,\n",
       "       -4.17527957e-02, -9.40812417e-02, -5.03086480e-02, -3.11570907e-01,\n",
       "       -8.55725341e-03,  2.27590009e-02,  4.71428190e-02, -1.62666400e-01,\n",
       "        2.29094517e-02,  9.58676773e-02, -4.57398129e-02,  6.29853529e-02,\n",
       "        8.10549061e-02,  2.37132665e-03, -5.04197784e-02,  1.00011560e-01,\n",
       "       -3.00367181e-02,  1.27247122e-01, -2.18028355e-01, -7.19234396e-02,\n",
       "        3.76414210e-02,  2.96533918e-02, -6.67861830e-02, -5.68672157e-02,\n",
       "       -4.65976139e-02,  2.31591919e-01, -3.09656184e-02, -1.02998565e-01,\n",
       "        1.49953613e-01,  1.06836063e-01, -6.41057888e-02,  1.19428500e-01,\n",
       "       -8.26465449e-02,  2.08989835e-01, -7.39251439e-02, -4.14048212e-02,\n",
       "       -1.46125376e-01, -6.74347897e-02,  9.35360201e-04,  7.43251664e-02,\n",
       "        1.03858963e-01, -1.39361154e-01,  8.45910289e-02,  1.03547731e-01,\n",
       "       -4.65684540e-02,  2.34233383e-02,  2.30224028e-01, -9.30544309e-02,\n",
       "        1.09537429e-01,  1.26613779e-01, -1.38259613e-01, -2.06337025e-02,\n",
       "        1.00918058e-01,  7.15667592e-02,  1.53153141e-02,  3.77027195e-02,\n",
       "        1.66736566e-02, -7.73282512e-02,  1.52288054e-01,  1.31154379e-01,\n",
       "        3.38576199e-02, -7.30410674e-02,  6.12169502e-03, -1.31927811e-02,\n",
       "       -1.02244171e-03,  7.59705931e-02, -3.73682117e-02,  1.60185855e-01,\n",
       "       -1.06533313e-01, -1.23579118e-01,  9.24330912e-02,  9.32477812e-02,\n",
       "       -2.39546269e-03, -6.74883065e-02,  4.62129605e-02, -1.55783821e-01,\n",
       "        1.31299344e-01,  4.72470155e-02, -8.62673837e-03, -2.07236048e-02,\n",
       "       -5.21851251e-02,  3.85033574e-02, -2.20274773e-03, -1.31497005e-01,\n",
       "        2.77075090e-02, -3.62138986e-02, -1.25028509e-01, -8.51660984e-02,\n",
       "        2.46003855e-02,  1.54979385e-01, -1.15254742e-01, -1.62234140e-01,\n",
       "       -8.25486276e-04, -1.74415419e-02, -6.90330861e-02, -3.12222312e-02,\n",
       "        6.83081222e-02, -1.53803935e-02, -5.34355927e-02,  2.36669322e-03,\n",
       "        3.23677539e-02, -9.86331103e-02, -1.08143501e-01, -4.16735484e-02,\n",
       "       -1.75212790e-01,  7.48363845e-02,  1.47904409e-01,  2.12695870e-02,\n",
       "        5.48831262e-02,  1.63841426e-01, -6.00031732e-03,  1.21147253e-03,\n",
       "        2.24504791e-01, -8.48931559e-02, -1.42674578e-01, -1.60701056e-01,\n",
       "        3.31967687e-02, -2.26821226e-02,  8.72549098e-02, -7.27456756e-02,\n",
       "       -9.64849351e-03, -3.53444966e-02,  1.34592951e-01, -4.23666011e-02,\n",
       "        1.60349146e-01, -1.69645177e-02, -5.05939265e-02,  1.12488718e-01,\n",
       "       -1.05483695e-02,  2.35514340e-02,  8.10876307e-02,  2.19007958e-02,\n",
       "       -7.21181322e-02,  4.06675373e-03, -1.04154111e-01,  1.46883457e-01,\n",
       "        1.46248463e-02, -1.43117937e-02, -2.52098669e-02,  6.76806483e-02,\n",
       "        5.00404104e-02,  3.56606458e-02,  9.90817627e-03, -5.67696916e-02,\n",
       "       -1.70466352e-02,  1.67237785e-01, -8.05538698e-02,  6.46641380e-02,\n",
       "        1.94441785e-02, -7.86286207e-02,  4.31743281e-02,  7.61913621e-02,\n",
       "        2.69364487e-02, -1.52025373e-03, -6.22917951e-02, -7.70141753e-02,\n",
       "       -2.36381805e-01, -1.51065214e-02, -4.59795012e-02,  6.13082969e-02,\n",
       "       -5.93340824e-02, -8.65976170e-02, -9.37215081e-02, -7.82931022e-02,\n",
       "       -9.27624882e-02,  1.18637946e-01,  1.69602220e-01, -2.30309478e-01,\n",
       "        1.88291412e-01,  6.75925440e-02, -1.69538043e-01,  2.83472550e-02,\n",
       "        9.28386421e-02,  3.91352890e-02, -1.18711702e-01,  6.79546939e-02,\n",
       "        1.55138186e-01, -1.02985732e-01,  5.98252718e-02,  2.53823656e-02,\n",
       "        1.02543896e-01,  1.36645132e-01, -5.18800687e-02, -3.39425948e-01,\n",
       "        4.57424151e-02,  1.37959974e-03, -8.82386569e-02, -3.46483225e-02,\n",
       "        1.33100012e-01,  3.66433572e-02,  3.39691257e-03, -6.01327798e-02,\n",
       "        1.10075041e-01, -9.87267786e-02, -8.20398606e-02,  4.07588603e-02,\n",
       "        1.08943064e-01, -4.79329060e-02, -1.02639249e-02,  9.10337818e-02,\n",
       "        5.33488755e-02, -2.62670339e-02, -1.07077286e-01,  1.12255917e-01,\n",
       "        6.03837836e-02, -4.34701690e-02,  3.73383790e-02,  8.77105802e-02,\n",
       "       -2.38268180e-01,  1.41053726e-01,  3.54261356e-02,  2.26119198e-02,\n",
       "       -7.06042266e-02, -6.38716408e-02,  1.08167419e-01,  4.43342990e-02,\n",
       "       -7.40263395e-02, -1.13693309e-01,  1.36107184e-01, -1.08812439e-01,\n",
       "       -1.65828753e-01,  1.10620346e-01, -2.23618633e-01,  1.16237204e-01,\n",
       "       -5.98899221e-02,  1.11897609e-01,  4.84968898e-02, -1.11410044e-01,\n",
       "       -1.47391512e-01, -1.97523725e-01,  1.71443722e-02,  8.53135888e-02,\n",
       "        5.13370339e-02,  1.00472924e-01, -9.46896232e-02,  7.33231821e-02,\n",
       "        1.01529474e-02,  1.98979276e-01, -4.04428817e-02, -4.87637069e-02,\n",
       "        2.77081492e-02, -6.77936902e-03, -2.08795917e-02,  5.78749839e-02,\n",
       "       -1.27699590e-01, -4.10903427e-02,  8.82712010e-02,  1.56829879e-02,\n",
       "       -1.91792761e-01,  2.90414420e-02,  1.98006829e-02, -9.00872284e-02,\n",
       "       -1.11139400e-01,  9.95675351e-02, -3.66543386e-02, -3.60925498e-02,\n",
       "       -2.19417581e-02, -8.18058633e-02,  6.99306057e-02,  5.34522892e-02,\n",
       "        3.97083997e-02,  9.35529915e-02,  4.86668759e-02, -1.39675952e-01,\n",
       "       -1.17707796e-01,  9.64818345e-02,  9.81794917e-02, -1.39492087e-01,\n",
       "        5.66735847e-02,  3.03695601e-02, -5.19298672e-03,  8.18624234e-02,\n",
       "       -2.56575245e-02, -1.19340287e-02, -8.59127301e-02,  1.24522184e-01,\n",
       "       -2.48954190e-02, -7.68213513e-02,  1.85107440e-02,  3.34149955e-02,\n",
       "        1.46787405e-02, -3.68570509e-02, -6.35860432e-03, -1.10219851e-01,\n",
       "        6.27140727e-02, -9.58642482e-02,  3.49591767e-02,  5.33196351e-02,\n",
       "       -2.60218602e-02, -3.09968933e-02, -1.56884162e-01, -2.30619560e-02,\n",
       "        4.26815962e-02,  6.29005847e-02,  4.86064189e-02, -8.20052941e-02,\n",
       "       -7.55697656e-03,  7.45445631e-02, -1.75539799e-02,  3.10182057e-02,\n",
       "       -2.72915121e-02, -2.19901478e-01,  1.82886148e-01,  5.69991076e-02,\n",
       "        4.59917595e-02,  2.02930160e-01,  3.08138175e-02, -1.08628695e-01,\n",
       "        1.53387314e-01, -2.12277798e-01,  4.87611582e-02,  1.13395868e-01,\n",
       "        4.48080075e-02,  6.00745162e-02,  7.35858888e-02, -7.27782823e-02,\n",
       "       -1.26271805e-01, -1.41537445e-02, -9.76951167e-02, -2.52827177e-02,\n",
       "       -2.23564131e-02,  1.32543660e-02, -2.04216784e-02,  7.23689223e-02])"
      ]
     },
     "execution_count": 111,
     "metadata": {},
     "output_type": "execute_result"
    }
   ],
   "source": [
    "s"
   ]
  },
  {
   "cell_type": "markdown",
   "id": "fbd2a440",
   "metadata": {},
   "source": [
    "### Exercise\n",
    "* Simulate a six-sided dice using numpy.random.choice(), generate a list of values you would obtain from 10 throws.\n",
    "* Simulate a two-sided coin toss that is NOT fair: it is twice as likely to have head than tails."
   ]
  },
  {
   "cell_type": "code",
   "execution_count": 112,
   "id": "73f02f9a",
   "metadata": {},
   "outputs": [
    {
     "data": {
      "text/plain": [
       "array([5, 2, 6, 6, 1, 2, 5, 4, 2, 4])"
      ]
     },
     "execution_count": 112,
     "metadata": {},
     "output_type": "execute_result"
    }
   ],
   "source": [
    "np.random.choice([1,2,3,4,5,6],10)\n"
   ]
  },
  {
   "cell_type": "code",
   "execution_count": 113,
   "id": "8cdfd40d",
   "metadata": {},
   "outputs": [
    {
     "data": {
      "text/plain": [
       "array(['T', 'H', 'H', 'H', 'T', 'H', 'T', 'T', 'T', 'H'], dtype='<U1')"
      ]
     },
     "execution_count": 113,
     "metadata": {},
     "output_type": "execute_result"
    }
   ],
   "source": [
    "np.random.choice([\"H\",\"H\",\"T\"],10)\n"
   ]
  },
  {
   "cell_type": "code",
   "execution_count": null,
   "id": "29b84e16",
   "metadata": {},
   "outputs": [],
   "source": []
  }
 ],
 "metadata": {
  "kernelspec": {
   "display_name": "Python 3 (ipykernel)",
   "language": "python",
   "name": "python3"
  },
  "language_info": {
   "codemirror_mode": {
    "name": "ipython",
    "version": 3
   },
   "file_extension": ".py",
   "mimetype": "text/x-python",
   "name": "python",
   "nbconvert_exporter": "python",
   "pygments_lexer": "ipython3",
   "version": "3.9.12"
  }
 },
 "nbformat": 4,
 "nbformat_minor": 5
}
